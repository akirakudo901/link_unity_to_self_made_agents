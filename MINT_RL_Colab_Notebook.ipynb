{
  "nbformat": 4,
  "nbformat_minor": 0,
  "metadata": {
    "colab": {
      "provenance": [],
      "collapsed_sections": [
        "bnnMrXx9Yu5X"
      ],
      "gpuType": "T4",
      "mount_file_id": "190htu1kb8rU1Cs9Ngc2FH2IUqK1An2Cp",
      "authorship_tag": "ABX9TyOzU5VxoyTKjfkbQBZXGe6U",
      "include_colab_link": true
    },
    "kernelspec": {
      "name": "python3",
      "display_name": "Python 3"
    },
    "language_info": {
      "name": "python"
    },
    "accelerator": "GPU",
    "widgets": {
      "application/vnd.jupyter.widget-state+json": {
        "f987c21a96454bafac1a5753f8fc667c": {
          "model_module": "@jupyter-widgets/controls",
          "model_name": "VBoxModel",
          "model_module_version": "1.5.0",
          "state": {
            "_dom_classes": [],
            "_model_module": "@jupyter-widgets/controls",
            "_model_module_version": "1.5.0",
            "_model_name": "VBoxModel",
            "_view_count": null,
            "_view_module": "@jupyter-widgets/controls",
            "_view_module_version": "1.5.0",
            "_view_name": "VBoxView",
            "box_style": "",
            "children": [
              "IPY_MODEL_cc0eb3b2c8fd4746aef16a5fb998212a",
              "IPY_MODEL_5d289e5bb9ef4652a0a69968e35ea5c6"
            ],
            "layout": "IPY_MODEL_80e1aca6cb704c028649aa83c876ea81"
          }
        },
        "cc0eb3b2c8fd4746aef16a5fb998212a": {
          "model_module": "@jupyter-widgets/controls",
          "model_name": "LabelModel",
          "model_module_version": "1.5.0",
          "state": {
            "_dom_classes": [],
            "_model_module": "@jupyter-widgets/controls",
            "_model_module_version": "1.5.0",
            "_model_name": "LabelModel",
            "_view_count": null,
            "_view_module": "@jupyter-widgets/controls",
            "_view_module_version": "1.5.0",
            "_view_name": "LabelView",
            "description": "",
            "description_tooltip": null,
            "layout": "IPY_MODEL_16ab2458c7254107b19714e42d98608f",
            "placeholder": "​",
            "style": "IPY_MODEL_247ce37c674b4c979dc81ac76e679ccf",
            "value": "0.011 MB of 0.011 MB uploaded\r"
          }
        },
        "5d289e5bb9ef4652a0a69968e35ea5c6": {
          "model_module": "@jupyter-widgets/controls",
          "model_name": "FloatProgressModel",
          "model_module_version": "1.5.0",
          "state": {
            "_dom_classes": [],
            "_model_module": "@jupyter-widgets/controls",
            "_model_module_version": "1.5.0",
            "_model_name": "FloatProgressModel",
            "_view_count": null,
            "_view_module": "@jupyter-widgets/controls",
            "_view_module_version": "1.5.0",
            "_view_name": "ProgressView",
            "bar_style": "",
            "description": "",
            "description_tooltip": null,
            "layout": "IPY_MODEL_2ae1a5a7061043de8c519b5f01ceb11e",
            "max": 1,
            "min": 0,
            "orientation": "horizontal",
            "style": "IPY_MODEL_d840d1c46b904c589582851c24f28162",
            "value": 1
          }
        },
        "80e1aca6cb704c028649aa83c876ea81": {
          "model_module": "@jupyter-widgets/base",
          "model_name": "LayoutModel",
          "model_module_version": "1.2.0",
          "state": {
            "_model_module": "@jupyter-widgets/base",
            "_model_module_version": "1.2.0",
            "_model_name": "LayoutModel",
            "_view_count": null,
            "_view_module": "@jupyter-widgets/base",
            "_view_module_version": "1.2.0",
            "_view_name": "LayoutView",
            "align_content": null,
            "align_items": null,
            "align_self": null,
            "border": null,
            "bottom": null,
            "display": null,
            "flex": null,
            "flex_flow": null,
            "grid_area": null,
            "grid_auto_columns": null,
            "grid_auto_flow": null,
            "grid_auto_rows": null,
            "grid_column": null,
            "grid_gap": null,
            "grid_row": null,
            "grid_template_areas": null,
            "grid_template_columns": null,
            "grid_template_rows": null,
            "height": null,
            "justify_content": null,
            "justify_items": null,
            "left": null,
            "margin": null,
            "max_height": null,
            "max_width": null,
            "min_height": null,
            "min_width": null,
            "object_fit": null,
            "object_position": null,
            "order": null,
            "overflow": null,
            "overflow_x": null,
            "overflow_y": null,
            "padding": null,
            "right": null,
            "top": null,
            "visibility": null,
            "width": null
          }
        },
        "16ab2458c7254107b19714e42d98608f": {
          "model_module": "@jupyter-widgets/base",
          "model_name": "LayoutModel",
          "model_module_version": "1.2.0",
          "state": {
            "_model_module": "@jupyter-widgets/base",
            "_model_module_version": "1.2.0",
            "_model_name": "LayoutModel",
            "_view_count": null,
            "_view_module": "@jupyter-widgets/base",
            "_view_module_version": "1.2.0",
            "_view_name": "LayoutView",
            "align_content": null,
            "align_items": null,
            "align_self": null,
            "border": null,
            "bottom": null,
            "display": null,
            "flex": null,
            "flex_flow": null,
            "grid_area": null,
            "grid_auto_columns": null,
            "grid_auto_flow": null,
            "grid_auto_rows": null,
            "grid_column": null,
            "grid_gap": null,
            "grid_row": null,
            "grid_template_areas": null,
            "grid_template_columns": null,
            "grid_template_rows": null,
            "height": null,
            "justify_content": null,
            "justify_items": null,
            "left": null,
            "margin": null,
            "max_height": null,
            "max_width": null,
            "min_height": null,
            "min_width": null,
            "object_fit": null,
            "object_position": null,
            "order": null,
            "overflow": null,
            "overflow_x": null,
            "overflow_y": null,
            "padding": null,
            "right": null,
            "top": null,
            "visibility": null,
            "width": null
          }
        },
        "247ce37c674b4c979dc81ac76e679ccf": {
          "model_module": "@jupyter-widgets/controls",
          "model_name": "DescriptionStyleModel",
          "model_module_version": "1.5.0",
          "state": {
            "_model_module": "@jupyter-widgets/controls",
            "_model_module_version": "1.5.0",
            "_model_name": "DescriptionStyleModel",
            "_view_count": null,
            "_view_module": "@jupyter-widgets/base",
            "_view_module_version": "1.2.0",
            "_view_name": "StyleView",
            "description_width": ""
          }
        },
        "2ae1a5a7061043de8c519b5f01ceb11e": {
          "model_module": "@jupyter-widgets/base",
          "model_name": "LayoutModel",
          "model_module_version": "1.2.0",
          "state": {
            "_model_module": "@jupyter-widgets/base",
            "_model_module_version": "1.2.0",
            "_model_name": "LayoutModel",
            "_view_count": null,
            "_view_module": "@jupyter-widgets/base",
            "_view_module_version": "1.2.0",
            "_view_name": "LayoutView",
            "align_content": null,
            "align_items": null,
            "align_self": null,
            "border": null,
            "bottom": null,
            "display": null,
            "flex": null,
            "flex_flow": null,
            "grid_area": null,
            "grid_auto_columns": null,
            "grid_auto_flow": null,
            "grid_auto_rows": null,
            "grid_column": null,
            "grid_gap": null,
            "grid_row": null,
            "grid_template_areas": null,
            "grid_template_columns": null,
            "grid_template_rows": null,
            "height": null,
            "justify_content": null,
            "justify_items": null,
            "left": null,
            "margin": null,
            "max_height": null,
            "max_width": null,
            "min_height": null,
            "min_width": null,
            "object_fit": null,
            "object_position": null,
            "order": null,
            "overflow": null,
            "overflow_x": null,
            "overflow_y": null,
            "padding": null,
            "right": null,
            "top": null,
            "visibility": null,
            "width": null
          }
        },
        "d840d1c46b904c589582851c24f28162": {
          "model_module": "@jupyter-widgets/controls",
          "model_name": "ProgressStyleModel",
          "model_module_version": "1.5.0",
          "state": {
            "_model_module": "@jupyter-widgets/controls",
            "_model_module_version": "1.5.0",
            "_model_name": "ProgressStyleModel",
            "_view_count": null,
            "_view_module": "@jupyter-widgets/base",
            "_view_module_version": "1.2.0",
            "_view_name": "StyleView",
            "bar_color": null,
            "description_width": ""
          }
        },
        "047a138be1f84156ae3420875aa164c3": {
          "model_module": "@jupyter-widgets/controls",
          "model_name": "VBoxModel",
          "model_module_version": "1.5.0",
          "state": {
            "_dom_classes": [],
            "_model_module": "@jupyter-widgets/controls",
            "_model_module_version": "1.5.0",
            "_model_name": "VBoxModel",
            "_view_count": null,
            "_view_module": "@jupyter-widgets/controls",
            "_view_module_version": "1.5.0",
            "_view_name": "VBoxView",
            "box_style": "",
            "children": [
              "IPY_MODEL_dcaecbbca8114087bb8cb444005c93e3",
              "IPY_MODEL_a7e43a77de384aa386758e5bfdc83917"
            ],
            "layout": "IPY_MODEL_0ace7fc373dc442c92341ea2a4500e20"
          }
        },
        "dcaecbbca8114087bb8cb444005c93e3": {
          "model_module": "@jupyter-widgets/controls",
          "model_name": "LabelModel",
          "model_module_version": "1.5.0",
          "state": {
            "_dom_classes": [],
            "_model_module": "@jupyter-widgets/controls",
            "_model_module_version": "1.5.0",
            "_model_name": "LabelModel",
            "_view_count": null,
            "_view_module": "@jupyter-widgets/controls",
            "_view_module_version": "1.5.0",
            "_view_name": "LabelView",
            "description": "",
            "description_tooltip": null,
            "layout": "IPY_MODEL_1c3ae428e75b4b8a97671e6c5a43edf6",
            "placeholder": "​",
            "style": "IPY_MODEL_073a19f6d9094360a14be5dd8058db62",
            "value": "0.015 MB of 0.015 MB uploaded\r"
          }
        },
        "a7e43a77de384aa386758e5bfdc83917": {
          "model_module": "@jupyter-widgets/controls",
          "model_name": "FloatProgressModel",
          "model_module_version": "1.5.0",
          "state": {
            "_dom_classes": [],
            "_model_module": "@jupyter-widgets/controls",
            "_model_module_version": "1.5.0",
            "_model_name": "FloatProgressModel",
            "_view_count": null,
            "_view_module": "@jupyter-widgets/controls",
            "_view_module_version": "1.5.0",
            "_view_name": "ProgressView",
            "bar_style": "",
            "description": "",
            "description_tooltip": null,
            "layout": "IPY_MODEL_fe67442e1bcf41efac05402cd4ea5849",
            "max": 1,
            "min": 0,
            "orientation": "horizontal",
            "style": "IPY_MODEL_aa4db3a24a8440b886d62637f403239c",
            "value": 1
          }
        },
        "0ace7fc373dc442c92341ea2a4500e20": {
          "model_module": "@jupyter-widgets/base",
          "model_name": "LayoutModel",
          "model_module_version": "1.2.0",
          "state": {
            "_model_module": "@jupyter-widgets/base",
            "_model_module_version": "1.2.0",
            "_model_name": "LayoutModel",
            "_view_count": null,
            "_view_module": "@jupyter-widgets/base",
            "_view_module_version": "1.2.0",
            "_view_name": "LayoutView",
            "align_content": null,
            "align_items": null,
            "align_self": null,
            "border": null,
            "bottom": null,
            "display": null,
            "flex": null,
            "flex_flow": null,
            "grid_area": null,
            "grid_auto_columns": null,
            "grid_auto_flow": null,
            "grid_auto_rows": null,
            "grid_column": null,
            "grid_gap": null,
            "grid_row": null,
            "grid_template_areas": null,
            "grid_template_columns": null,
            "grid_template_rows": null,
            "height": null,
            "justify_content": null,
            "justify_items": null,
            "left": null,
            "margin": null,
            "max_height": null,
            "max_width": null,
            "min_height": null,
            "min_width": null,
            "object_fit": null,
            "object_position": null,
            "order": null,
            "overflow": null,
            "overflow_x": null,
            "overflow_y": null,
            "padding": null,
            "right": null,
            "top": null,
            "visibility": null,
            "width": null
          }
        },
        "1c3ae428e75b4b8a97671e6c5a43edf6": {
          "model_module": "@jupyter-widgets/base",
          "model_name": "LayoutModel",
          "model_module_version": "1.2.0",
          "state": {
            "_model_module": "@jupyter-widgets/base",
            "_model_module_version": "1.2.0",
            "_model_name": "LayoutModel",
            "_view_count": null,
            "_view_module": "@jupyter-widgets/base",
            "_view_module_version": "1.2.0",
            "_view_name": "LayoutView",
            "align_content": null,
            "align_items": null,
            "align_self": null,
            "border": null,
            "bottom": null,
            "display": null,
            "flex": null,
            "flex_flow": null,
            "grid_area": null,
            "grid_auto_columns": null,
            "grid_auto_flow": null,
            "grid_auto_rows": null,
            "grid_column": null,
            "grid_gap": null,
            "grid_row": null,
            "grid_template_areas": null,
            "grid_template_columns": null,
            "grid_template_rows": null,
            "height": null,
            "justify_content": null,
            "justify_items": null,
            "left": null,
            "margin": null,
            "max_height": null,
            "max_width": null,
            "min_height": null,
            "min_width": null,
            "object_fit": null,
            "object_position": null,
            "order": null,
            "overflow": null,
            "overflow_x": null,
            "overflow_y": null,
            "padding": null,
            "right": null,
            "top": null,
            "visibility": null,
            "width": null
          }
        },
        "073a19f6d9094360a14be5dd8058db62": {
          "model_module": "@jupyter-widgets/controls",
          "model_name": "DescriptionStyleModel",
          "model_module_version": "1.5.0",
          "state": {
            "_model_module": "@jupyter-widgets/controls",
            "_model_module_version": "1.5.0",
            "_model_name": "DescriptionStyleModel",
            "_view_count": null,
            "_view_module": "@jupyter-widgets/base",
            "_view_module_version": "1.2.0",
            "_view_name": "StyleView",
            "description_width": ""
          }
        },
        "fe67442e1bcf41efac05402cd4ea5849": {
          "model_module": "@jupyter-widgets/base",
          "model_name": "LayoutModel",
          "model_module_version": "1.2.0",
          "state": {
            "_model_module": "@jupyter-widgets/base",
            "_model_module_version": "1.2.0",
            "_model_name": "LayoutModel",
            "_view_count": null,
            "_view_module": "@jupyter-widgets/base",
            "_view_module_version": "1.2.0",
            "_view_name": "LayoutView",
            "align_content": null,
            "align_items": null,
            "align_self": null,
            "border": null,
            "bottom": null,
            "display": null,
            "flex": null,
            "flex_flow": null,
            "grid_area": null,
            "grid_auto_columns": null,
            "grid_auto_flow": null,
            "grid_auto_rows": null,
            "grid_column": null,
            "grid_gap": null,
            "grid_row": null,
            "grid_template_areas": null,
            "grid_template_columns": null,
            "grid_template_rows": null,
            "height": null,
            "justify_content": null,
            "justify_items": null,
            "left": null,
            "margin": null,
            "max_height": null,
            "max_width": null,
            "min_height": null,
            "min_width": null,
            "object_fit": null,
            "object_position": null,
            "order": null,
            "overflow": null,
            "overflow_x": null,
            "overflow_y": null,
            "padding": null,
            "right": null,
            "top": null,
            "visibility": null,
            "width": null
          }
        },
        "aa4db3a24a8440b886d62637f403239c": {
          "model_module": "@jupyter-widgets/controls",
          "model_name": "ProgressStyleModel",
          "model_module_version": "1.5.0",
          "state": {
            "_model_module": "@jupyter-widgets/controls",
            "_model_module_version": "1.5.0",
            "_model_name": "ProgressStyleModel",
            "_view_count": null,
            "_view_module": "@jupyter-widgets/base",
            "_view_module_version": "1.2.0",
            "_view_name": "StyleView",
            "bar_color": null,
            "description_width": ""
          }
        }
      }
    }
  },
  "cells": [
    {
      "cell_type": "markdown",
      "metadata": {
        "id": "view-in-github",
        "colab_type": "text"
      },
      "source": [
        "<a href=\"https://colab.research.google.com/github/akirakudo901/link_unity_to_self_made_agents/blob/master/MINT_RL_Colab_Notebook.ipynb\" target=\"_parent\"><img src=\"https://colab.research.google.com/assets/colab-badge.svg\" alt=\"Open In Colab\"/></a>"
      ]
    },
    {
      "cell_type": "markdown",
      "source": [
        "# **MINT Code Base on Google Colab!**\n",
        "Gonna try my own code base with Google Colab to have RL run in the background without me having to wait for it to terminate."
      ],
      "metadata": {
        "id": "GB3bFDD6Wnc7"
      }
    },
    {
      "cell_type": "markdown",
      "source": [
        "**Two ways** for **integration of code base** with **Google Colab**:\n",
        "\n",
        "1. **Clone git every time**. Might be time consuming, but useful if I want to frequently change the code on the other side.\n",
        "\n",
        "2. **Upload the entire code** to **Google Drive** and **mount it**. Will maybe try later?"
      ],
      "metadata": {
        "id": "WAk75FbEW6On"
      }
    },
    {
      "cell_type": "markdown",
      "source": [
        "## **Set Up**"
      ],
      "metadata": {
        "id": "mm5uY6FFjdgd"
      }
    },
    {
      "cell_type": "markdown",
      "source": [
        "### **Mounting Google Drive**\n",
        "We mount the google drive folder we will use."
      ],
      "metadata": {
        "id": "-RlwqZDb5gKO"
      }
    },
    {
      "cell_type": "code",
      "source": [
        "from google.colab import drive\n",
        "drive.mount('/content/drive')"
      ],
      "metadata": {
        "colab": {
          "base_uri": "https://localhost:8080/"
        },
        "id": "ZufiKsLY5mbF",
        "outputId": "fec4dc08-9d0a-4045-8f84-b87a67abe3f0"
      },
      "execution_count": null,
      "outputs": [
        {
          "output_type": "stream",
          "name": "stdout",
          "text": [
            "Drive already mounted at /content/drive; to attempt to forcibly remount, call drive.mount(\"/content/drive\", force_remount=True).\n"
          ]
        }
      ]
    },
    {
      "cell_type": "code",
      "source": [
        "%cd /content/drive/MyDrive/MINT/Self_implemented_algorithm_trials\n",
        "%ls"
      ],
      "metadata": {
        "colab": {
          "base_uri": "https://localhost:8080/"
        },
        "id": "SgFELpu_6D2k",
        "outputId": "7489f6bd-074c-4929-cdaa-015c6303c3cf"
      },
      "execution_count": null,
      "outputs": [
        {
          "output_type": "stream",
          "name": "stdout",
          "text": [
            "/content/drive/MyDrive/MINT/Self_implemented_algorithm_trials\n",
            "\u001b[0m\u001b[01;34mlink_unity_to_self_made_agents\u001b[0m/\n"
          ]
        }
      ]
    },
    {
      "cell_type": "markdown",
      "source": [
        "### **Cloning repo from github**\n",
        "We will clone the repo from github to have all code accessible.\n",
        "Only run this again if we deem it needed to copy the whole thing."
      ],
      "metadata": {
        "id": "ejKv9cLIXU2N"
      }
    },
    {
      "cell_type": "code",
      "execution_count": null,
      "metadata": {
        "colab": {
          "base_uri": "https://localhost:8080/"
        },
        "id": "6dLHk2VfVMe8",
        "outputId": "062cce29-b105-4c54-97c4-5220536ac3ca"
      },
      "outputs": [
        {
          "output_type": "stream",
          "name": "stdout",
          "text": [
            "fatal: destination path 'link_unity_to_self_made_agents' already exists and is not an empty directory.\n",
            "/content/drive/MyDrive/MINT/Self_implemented_algorithm_trials/link_unity_to_self_made_agents\n",
            "\u001b[0m\u001b[01;34mgridworld_example_breakdown\u001b[0m/  README.md                                 todo.txt\n",
            "main.py                       tentative_requirements_on_08_09_2023.txt  \u001b[01;34mtrained_algorithms\u001b[0m/\n",
            "\u001b[01;34mmodels\u001b[0m/                       \u001b[01;34mtests\u001b[0m/                                    \u001b[01;34mwandb\u001b[0m/\n"
          ]
        }
      ],
      "source": [
        "import os\n",
        "from datetime import datetime\n",
        "\n",
        "if input(\"Do you want to clone the new repo? y/n\" ==\"y\"):\n",
        "  # if previous version exists, rename the old one\n",
        "  if os.path.exists(\"link_unity_to_self_made_agents\"):\n",
        "    new_name = datetime.now().strftime(\"%m_%d_%Y_%Hh_%Mm_%Ss\")\n",
        "    os.rename(\"link_unity_to_self_made_agents\", f\"backup_{create_time}\")\n",
        "  # then clone the whole thing\n",
        "  !git clone https://github.com/akirakudo901/link_unity_to_self_made_agents.git\n",
        "  %cd link_unity_to_self_made_agents\n",
        "  %ls"
      ]
    },
    {
      "cell_type": "markdown",
      "source": [
        "### **Installing other packages**"
      ],
      "metadata": {
        "id": "bnnMrXx9Yu5X"
      }
    },
    {
      "cell_type": "markdown",
      "source": [
        "We first seem to have to install swig to this disk. Then, we can use it to build the box2D wheel for gymnasium."
      ],
      "metadata": {
        "id": "W3v6U7kqdDmS"
      }
    },
    {
      "cell_type": "code",
      "source": [
        "!sudo apt-get install swig3.0\n",
        "!ln -s /usr/bin/swig3.0 /usr/bin/swig\n",
        "!swig -version"
      ],
      "metadata": {
        "colab": {
          "base_uri": "https://localhost:8080/"
        },
        "id": "BvhddupldBeu",
        "outputId": "335c8db1-72a1-4b54-ebe8-0a64226cd26f"
      },
      "execution_count": null,
      "outputs": [
        {
          "output_type": "stream",
          "name": "stdout",
          "text": [
            "Reading package lists... Done\n",
            "Building dependency tree... Done\n",
            "Reading state information... Done\n",
            "swig3.0 is already the newest version (3.0.12-2.2ubuntu1).\n",
            "0 upgraded, 0 newly installed, 0 to remove and 19 not upgraded.\n",
            "ln: failed to create symbolic link '/usr/bin/swig': File exists\n",
            "\n",
            "SWIG Version 4.1.1\n",
            "\n",
            "Compiled with /opt/rh/devtoolset-2/root/usr/bin/c++ [Linux]\n",
            "\n",
            "Configured options: +pcre\n",
            "\n",
            "Please see https://www.swig.org for reporting bugs and further information\n"
          ]
        }
      ]
    },
    {
      "cell_type": "code",
      "source": [
        "!pip install gymnasium\n",
        "!pip install wandb\n",
        "!pip install gymnasium[Box2D]"
      ],
      "metadata": {
        "colab": {
          "base_uri": "https://localhost:8080/"
        },
        "id": "K1QXR9MaYsdC",
        "outputId": "f4f62733-ef31-4674-bf68-77fc000a79d9"
      },
      "execution_count": null,
      "outputs": [
        {
          "output_type": "stream",
          "name": "stdout",
          "text": [
            "Requirement already satisfied: gymnasium in /usr/local/lib/python3.10/dist-packages (0.29.1)\n",
            "Requirement already satisfied: numpy>=1.21.0 in /usr/local/lib/python3.10/dist-packages (from gymnasium) (1.23.5)\n",
            "Requirement already satisfied: cloudpickle>=1.2.0 in /usr/local/lib/python3.10/dist-packages (from gymnasium) (2.2.1)\n",
            "Requirement already satisfied: typing-extensions>=4.3.0 in /usr/local/lib/python3.10/dist-packages (from gymnasium) (4.5.0)\n",
            "Requirement already satisfied: farama-notifications>=0.0.1 in /usr/local/lib/python3.10/dist-packages (from gymnasium) (0.0.4)\n",
            "Requirement already satisfied: wandb in /usr/local/lib/python3.10/dist-packages (0.16.0)\n",
            "Requirement already satisfied: Click!=8.0.0,>=7.1 in /usr/local/lib/python3.10/dist-packages (from wandb) (8.1.7)\n",
            "Requirement already satisfied: GitPython!=3.1.29,>=1.0.0 in /usr/local/lib/python3.10/dist-packages (from wandb) (3.1.40)\n",
            "Requirement already satisfied: requests<3,>=2.0.0 in /usr/local/lib/python3.10/dist-packages (from wandb) (2.31.0)\n",
            "Requirement already satisfied: psutil>=5.0.0 in /usr/local/lib/python3.10/dist-packages (from wandb) (5.9.5)\n",
            "Requirement already satisfied: sentry-sdk>=1.0.0 in /usr/local/lib/python3.10/dist-packages (from wandb) (1.34.0)\n",
            "Requirement already satisfied: docker-pycreds>=0.4.0 in /usr/local/lib/python3.10/dist-packages (from wandb) (0.4.0)\n",
            "Requirement already satisfied: PyYAML in /usr/local/lib/python3.10/dist-packages (from wandb) (6.0.1)\n",
            "Requirement already satisfied: setproctitle in /usr/local/lib/python3.10/dist-packages (from wandb) (1.3.3)\n",
            "Requirement already satisfied: setuptools in /usr/local/lib/python3.10/dist-packages (from wandb) (67.7.2)\n",
            "Requirement already satisfied: appdirs>=1.4.3 in /usr/local/lib/python3.10/dist-packages (from wandb) (1.4.4)\n",
            "Requirement already satisfied: protobuf!=4.21.0,<5,>=3.19.0 in /usr/local/lib/python3.10/dist-packages (from wandb) (3.20.3)\n",
            "Requirement already satisfied: six>=1.4.0 in /usr/local/lib/python3.10/dist-packages (from docker-pycreds>=0.4.0->wandb) (1.16.0)\n",
            "Requirement already satisfied: gitdb<5,>=4.0.1 in /usr/local/lib/python3.10/dist-packages (from GitPython!=3.1.29,>=1.0.0->wandb) (4.0.11)\n",
            "Requirement already satisfied: charset-normalizer<4,>=2 in /usr/local/lib/python3.10/dist-packages (from requests<3,>=2.0.0->wandb) (3.3.2)\n",
            "Requirement already satisfied: idna<4,>=2.5 in /usr/local/lib/python3.10/dist-packages (from requests<3,>=2.0.0->wandb) (3.4)\n",
            "Requirement already satisfied: urllib3<3,>=1.21.1 in /usr/local/lib/python3.10/dist-packages (from requests<3,>=2.0.0->wandb) (2.0.7)\n",
            "Requirement already satisfied: certifi>=2017.4.17 in /usr/local/lib/python3.10/dist-packages (from requests<3,>=2.0.0->wandb) (2023.7.22)\n",
            "Requirement already satisfied: smmap<6,>=3.0.1 in /usr/local/lib/python3.10/dist-packages (from gitdb<5,>=4.0.1->GitPython!=3.1.29,>=1.0.0->wandb) (5.0.1)\n",
            "Requirement already satisfied: gymnasium[Box2D] in /usr/local/lib/python3.10/dist-packages (0.29.1)\n",
            "Requirement already satisfied: numpy>=1.21.0 in /usr/local/lib/python3.10/dist-packages (from gymnasium[Box2D]) (1.23.5)\n",
            "Requirement already satisfied: cloudpickle>=1.2.0 in /usr/local/lib/python3.10/dist-packages (from gymnasium[Box2D]) (2.2.1)\n",
            "Requirement already satisfied: typing-extensions>=4.3.0 in /usr/local/lib/python3.10/dist-packages (from gymnasium[Box2D]) (4.5.0)\n",
            "Requirement already satisfied: farama-notifications>=0.0.1 in /usr/local/lib/python3.10/dist-packages (from gymnasium[Box2D]) (0.0.4)\n",
            "Requirement already satisfied: box2d-py==2.3.5 in /usr/local/lib/python3.10/dist-packages (from gymnasium[Box2D]) (2.3.5)\n",
            "Requirement already satisfied: pygame>=2.1.3 in /usr/local/lib/python3.10/dist-packages (from gymnasium[Box2D]) (2.5.2)\n",
            "Requirement already satisfied: swig==4.* in /usr/local/lib/python3.10/dist-packages (from gymnasium[Box2D]) (4.1.1.post0)\n"
          ]
        }
      ]
    },
    {
      "cell_type": "markdown",
      "source": [
        "## **SAC Training With BipedalWalker-V3**"
      ],
      "metadata": {
        "id": "hzam3AnQX41K"
      }
    },
    {
      "cell_type": "code",
      "source": [
        "import gymnasium\n",
        "\n",
        "from models.policy_learning_algorithms.policy_learning_algorithm import generate_name_from_parameter_dict, generate_parameters\n",
        "from models.policy_learning_algorithms.soft_actor_critic import SoftActorCritic, uniform_random_sampling_wrapper, no_exploration_wrapper, train_SAC\n",
        "from models.trainers.gym_base_trainer import GymOffPolicyBaseTrainer\n",
        "\n",
        "# create the environment and determine specs about it\n",
        "env = gymnasium.make(\"BipedalWalker-v3\")#, render_mode=\"human\")\n",
        "trainer = GymOffPolicyBaseTrainer(env)\n",
        "MAX_EPISODE_STEPS = 1600\n",
        "\n",
        "parameters = {\n",
        "    \"play_around\" : {\n",
        "        \"q_net_learning_rate\"  : 1e-3,\n",
        "        \"policy_learning_rate\" : 1e-3,\n",
        "        \"discount\" : 0.99,\n",
        "        \"temperature\" : 0.10,\n",
        "        \"qnet_update_smoothing_coefficient\" : 0.005,\n",
        "        \"pol_eval_batch_size\" : 1024,\n",
        "        \"pol_imp_batch_size\" : 64,\n",
        "        \"update_qnet_every_N_gradient_steps\" : 1,\n",
        "        \"qnet_layer_sizes\" : (64, 64),\n",
        "        \"policy_layer_sizes\" : (64, 64),\n",
        "        \"num_training_steps\" : MAX_EPISODE_STEPS * 10,\n",
        "        \"num_init_exp\" : 0,\n",
        "        \"evaluate_N_samples\" : 1,\n",
        "        \"evaluate_every_N_epochs\" : MAX_EPISODE_STEPS,\n",
        "        \"buffer_size\" : int(1e6),\n",
        "        \"save_after_training\" : True,\n",
        "        \"num_new_exp\" : 1,\n",
        "        \"render_evaluation\" : False\n",
        "    },\n",
        "    \"try_256by256\" : {\n",
        "        \"q_net_learning_rate\"  : 1e-3,\n",
        "        \"policy_learning_rate\" : 1e-3,\n",
        "        \"discount\" : 0.99,\n",
        "        \"temperature\" : 0.75,\n",
        "        \"qnet_update_smoothing_coefficient\" : 0.005,\n",
        "        \"pol_eval_batch_size\" : 1024,\n",
        "        \"pol_imp_batch_size\" : 1024,\n",
        "        \"update_qnet_every_N_gradient_steps\" : 1,\n",
        "        \"qnet_layer_sizes\" : (256, 256),\n",
        "        \"policy_layer_sizes\" : (256, 256),\n",
        "        \"num_training_steps\" : MAX_EPISODE_STEPS * 10,\n",
        "        \"num_init_exp\" : 5000,\n",
        "        \"num_new_exp\" : 1,\n",
        "        \"evaluate_every_N_epochs\" : MAX_EPISODE_STEPS,\n",
        "        \"buffer_size\" : int(1e6),\n",
        "        \"save_after_training\" : True,\n",
        "        \"evaluate_N_samples\" : 1,\n",
        "        \"render_evaluation\" : False\n",
        "    },\n",
        "    \"policy_learning_rate_0.005\" : {\n",
        "        \"q_net_learning_rate\"  : 1e-3,\n",
        "        \"policy_learning_rate\" : 5e-3,\n",
        "        \"discount\" : 0.99,\n",
        "        \"temperature\" : 0.5,\n",
        "        \"qnet_update_smoothing_coefficient\" : 0.005,\n",
        "        \"pol_eval_batch_size\" : 1024,\n",
        "        \"pol_imp_batch_size\" : 1024,\n",
        "        \"update_qnet_every_N_gradient_steps\" : 1,\n",
        "        \"qnet_layer_sizes\" : (256, 256),\n",
        "        \"policy_layer_sizes\" : (256, 256),\n",
        "        \"num_training_steps\" : MAX_EPISODE_STEPS * 50,\n",
        "        \"num_init_exp\" : 10000,\n",
        "        \"num_new_exp\" : 1,\n",
        "        \"evaluate_every_N_epochs\" : MAX_EPISODE_STEPS,\n",
        "        \"buffer_size\" : int(1e6),\n",
        "        \"save_after_training\" : True,\n",
        "        \"evaluate_N_samples\" : 1,\n",
        "        \"render_evaluation\" : False\n",
        "    },\n",
        "}"
      ],
      "metadata": {
        "colab": {
          "base_uri": "https://localhost:8080/"
        },
        "id": "5wgdC3HtXwsA",
        "outputId": "fbcba0f3-10dd-4ed5-f045-ca38e8a1d41b"
      },
      "execution_count": null,
      "outputs": [
        {
          "output_type": "stream",
          "name": "stdout",
          "text": [
            "The environment has observation size: 24 & action size: 4.\n"
          ]
        }
      ]
    },
    {
      "cell_type": "code",
      "source": [
        "# TRAIN MANY COMBINATIONS\n",
        "params_to_try = generate_parameters(default_parameters=parameters[\"try_256by256\"],\n",
        "                                    default_name = \"try_256by256\",\n",
        "                                    policy_learning_rate = [1e-2, 5e-3, 5e-4, 1e-4, 5e-5],\n",
        "                                    num_training_steps = MAX_EPISODE_STEPS * 50,\n",
        "                                    pol_eval_batch_size = 1024,\n",
        "                                    num_init_exp = 10000,\n",
        "                                    temperature = 0.5,\n",
        "                                    qnet_layer_sizes = (256, 256),\n",
        "                                    policy_layer_sizes = (256, 256))\n",
        "\n",
        "for i, name_and_dict in enumerate(params_to_try.items()):\n",
        "    name, p = name_and_dict\n",
        "    train_SAC(parameters=p, parameter_name=name, env=env, trainer=trainer, training_id=None)"
      ],
      "metadata": {
        "colab": {
          "base_uri": "https://localhost:8080/",
          "height": 1000,
          "referenced_widgets": [
            "b7b16f87bac14c498cbb0eba671c6bd3",
            "f987c21a96454bafac1a5753f8fc667c",
            "cc0eb3b2c8fd4746aef16a5fb998212a",
            "5d289e5bb9ef4652a0a69968e35ea5c6",
            "80e1aca6cb704c028649aa83c876ea81",
            "16ab2458c7254107b19714e42d98608f",
            "247ce37c674b4c979dc81ac76e679ccf",
            "2ae1a5a7061043de8c519b5f01ceb11e",
            "d840d1c46b904c589582851c24f28162",
            "0ca15bf0ca9942f292dfbc4e3b5e6a61",
            "62ac1d15c6bd4d8ea07c3dbc0df3c1e7",
            "047a138be1f84156ae3420875aa164c3",
            "dcaecbbca8114087bb8cb444005c93e3",
            "a7e43a77de384aa386758e5bfdc83917",
            "0ace7fc373dc442c92341ea2a4500e20",
            "1c3ae428e75b4b8a97671e6c5a43edf6",
            "073a19f6d9094360a14be5dd8058db62",
            "fe67442e1bcf41efac05402cd4ea5849",
            "aa4db3a24a8440b886d62637f403239c"
          ]
        },
        "id": "qAN9pOqlYJV5",
        "outputId": "e7be2ebc-b100-43c7-d6c7-77621c0ef475"
      },
      "execution_count": null,
      "outputs": [
        {
          "metadata": {
            "tags": null
          },
          "name": "stdout",
          "output_type": "stream",
          "text": [
            "Training: policy_learning_rate_0.01.\n",
            "Using device: cuda\n",
            "Newly generated training id : 6p544ey3 will be used for training.\n",
            "Generating 10000 initial experiences...\n",
            "Generation successful!\n"
          ]
        },
        {
          "data": {
            "application/javascript": [
              "\n",
              "        window._wandbApiKey = new Promise((resolve, reject) => {\n",
              "            function loadScript(url) {\n",
              "            return new Promise(function(resolve, reject) {\n",
              "                let newScript = document.createElement(\"script\");\n",
              "                newScript.onerror = reject;\n",
              "                newScript.onload = resolve;\n",
              "                document.body.appendChild(newScript);\n",
              "                newScript.src = url;\n",
              "            });\n",
              "            }\n",
              "            loadScript(\"https://cdn.jsdelivr.net/npm/postmate/build/postmate.min.js\").then(() => {\n",
              "            const iframe = document.createElement('iframe')\n",
              "            iframe.style.cssText = \"width:0;height:0;border:none\"\n",
              "            document.body.appendChild(iframe)\n",
              "            const handshake = new Postmate({\n",
              "                container: iframe,\n",
              "                url: 'https://wandb.ai/authorize'\n",
              "            });\n",
              "            const timeout = setTimeout(() => reject(\"Couldn't auto authenticate\"), 5000)\n",
              "            handshake.then(function(child) {\n",
              "                child.on('authorize', data => {\n",
              "                    clearTimeout(timeout)\n",
              "                    resolve(data)\n",
              "                });\n",
              "            });\n",
              "            })\n",
              "        });\n",
              "    "
            ],
            "text/plain": [
              "<IPython.core.display.Javascript object>"
            ]
          },
          "metadata": {},
          "output_type": "display_data"
        },
        {
          "metadata": {
            "tags": null
          },
          "name": "stderr",
          "output_type": "stream",
          "text": [
            "\u001b[34m\u001b[1mwandb\u001b[0m: Logging into wandb.ai. (Learn how to deploy a W&B server locally: https://wandb.me/wandb-server)\n",
            "\u001b[34m\u001b[1mwandb\u001b[0m: You can find your API key in your browser here: https://wandb.ai/authorize\n",
            "wandb: Paste an API key from your profile and hit enter, or press ctrl+c to quit:\u001b[34m\u001b[1mwandb\u001b[0m: Appending key for api.wandb.ai to your netrc file: /root/.netrc\n",
            "\u001b[34m\u001b[1mwandb\u001b[0m: \u001b[33mWARNING\u001b[0m `config_exclude_keys` is deprecated. Use `config=wandb.helper.parse_config(config_object, exclude=('key',))` instead.\n"
          ]
        },
        {
          "data": {
            "text/html": [
              "Tracking run with wandb version 0.16.0"
            ],
            "text/plain": [
              "<IPython.core.display.HTML object>"
            ]
          },
          "metadata": {},
          "output_type": "display_data"
        },
        {
          "data": {
            "text/html": [
              "Run data is saved locally in <code>/content/drive/MyDrive/MINT/Self_implemented_algorithm_trials/link_unity_to_self_made_agents/wandb/run-20231112_033855-6p544ey3</code>"
            ],
            "text/plain": [
              "<IPython.core.display.HTML object>"
            ]
          },
          "metadata": {},
          "output_type": "display_data"
        },
        {
          "data": {
            "text/html": [
              "Syncing run <strong><a href='https://wandb.ai/akirakudo901/BipedalWalker-v3_SAC/runs/6p544ey3' target=\"_blank\">run_id=6p544ey3</a></strong> to <a href='https://wandb.ai/akirakudo901/BipedalWalker-v3_SAC' target=\"_blank\">Weights & Biases</a> (<a href='https://wandb.me/run' target=\"_blank\">docs</a>)<br/>"
            ],
            "text/plain": [
              "<IPython.core.display.HTML object>"
            ]
          },
          "metadata": {},
          "output_type": "display_data"
        },
        {
          "data": {
            "text/html": [
              " View project at <a href='https://wandb.ai/akirakudo901/BipedalWalker-v3_SAC' target=\"_blank\">https://wandb.ai/akirakudo901/BipedalWalker-v3_SAC</a>"
            ],
            "text/plain": [
              "<IPython.core.display.HTML object>"
            ]
          },
          "metadata": {},
          "output_type": "display_data"
        },
        {
          "data": {
            "text/html": [
              " View run at <a href='https://wandb.ai/akirakudo901/BipedalWalker-v3_SAC/runs/6p544ey3' target=\"_blank\">https://wandb.ai/akirakudo901/BipedalWalker-v3_SAC/runs/6p544ey3</a>"
            ],
            "text/plain": [
              "<IPython.core.display.HTML object>"
            ]
          },
          "metadata": {},
          "output_type": "display_data"
        },
        {
          "metadata": {
            "tags": null
          },
          "name": "stdout",
          "output_type": "stream",
          "text": [
            "Training loop 1600/80000 successfully ended: reward=-94.29294866753878.\n",
            "\n",
            "Training loop 3200/80000 successfully ended: reward=-101.2627134033818.\n",
            "\n",
            "Training loop 4800/80000 successfully ended: reward=-97.60282997829606.\n",
            "\n",
            "Training loop 6400/80000 successfully ended: reward=-4.838644486881923.\n",
            "\n",
            "Training loop 8000/80000 successfully ended: reward=-11.910516916933577.\n",
            "\n",
            "Training loop 9600/80000 successfully ended: reward=-14.494238653683551.\n",
            "\n",
            "Training loop 11200/80000 successfully ended: reward=-19.393051205680116.\n",
            "\n",
            "Training loop 12800/80000 successfully ended: reward=-26.918485219192828.\n",
            "\n",
            "Training loop 14400/80000 successfully ended: reward=-112.83495878205915.\n",
            "\n",
            "Training loop 16000/80000 successfully ended: reward=-119.78008419228718.\n",
            "\n",
            "Training loop 17600/80000 successfully ended: reward=-119.6517900393835.\n",
            "\n",
            "Training loop 19200/80000 successfully ended: reward=-19.911692433339272.\n",
            "\n",
            "Training loop 20800/80000 successfully ended: reward=-23.220615723785333.\n",
            "\n",
            "Training loop 22400/80000 successfully ended: reward=-117.48790468945603.\n",
            "\n",
            "Training loop 24000/80000 successfully ended: reward=-11.287213379165232.\n",
            "\n",
            "Training loop 25600/80000 successfully ended: reward=-7.742554107561579.\n",
            "\n",
            "Training loop 27200/80000 successfully ended: reward=-6.969052175958735.\n",
            "\n",
            "Training loop 28800/80000 successfully ended: reward=-9.272208024537544.\n",
            "\n",
            "Training loop 30400/80000 successfully ended: reward=-8.322009156918815.\n",
            "\n",
            "Training loop 32000/80000 successfully ended: reward=-4.118342686033537.\n",
            "\n",
            "Training loop 33600/80000 successfully ended: reward=-6.301720299799805.\n",
            "\n",
            "Training loop 35200/80000 successfully ended: reward=-1.0472363062852994.\n",
            "\n",
            "Training loop 36800/80000 successfully ended: reward=-10.053449447588365.\n",
            "\n",
            "\n",
            "Training interrupted...\n",
            "Closing envs...\n",
            "Successfully closed envs!\n",
            "Execution time for this session: 1421.451883323 sec.\n",
            "Execution time for the entire training so far: 1440.865751765 sec.\n"
          ]
        },
        {
          "data": {
            "application/vnd.jupyter.widget-view+json": {
              "model_id": "b7b16f87bac14c498cbb0eba671c6bd3",
              "version_major": 2,
              "version_minor": 0
            },
            "text/plain": [
              "VBox(children=(Label(value='0.001 MB of 0.001 MB uploaded\\r'), FloatProgress(value=1.0, max=1.0)))"
            ]
          },
          "metadata": {},
          "output_type": "display_data"
        },
        {
          "data": {
            "text/html": [
              "<style>\n",
              "    table.wandb td:nth-child(1) { padding: 0 10px; text-align: left ; width: auto;} td:nth-child(2) {text-align: left ; width: 100%}\n",
              "    .wandb-row { display: flex; flex-direction: row; flex-wrap: wrap; justify-content: flex-start; width: 100% }\n",
              "    .wandb-col { display: flex; flex-direction: column; flex-basis: 100%; flex: 1; padding: 10px; }\n",
              "    </style>\n",
              "<div class=\"wandb-row\"><div class=\"wandb-col\"><h3>Run history:</h3><br/><table class=\"wandb\"><tr><td>Cumulative Reward</td><td>▃▂▂█▇▇▇▆▁▁▁▇▇▁▇███████▇</td></tr><tr><td>Policy Loss</td><td>██▇▇▇▆▆▆▆▅▅▅▅▄▄▄▄▄▃▃▃▃▃▃▂▂▂▂▂▂▂▂▂▂▁▁▁▁▁▁</td></tr><tr><td>QNet1 Loss</td><td>█▂▁▁▁▁▁▁▁▁▁▁▄▁▂▁▂▂▂▁▂▁▂▂▁▂▂▂▁▂▂▂▂▂▁▂▂▁▂▂</td></tr><tr><td>QNet2 Loss</td><td>█▁▁▁▁▁▁▁▁▁▁▁▄▂▂▂▂▂▂▂▂▂▂▂▂▂▂▂▁▂▂▁▂▂▁▂▂▁▂▂</td></tr><tr><td>Run Cumulative Reward</td><td>▆█▄▂▆▁▁▆█▇▆▃█▆▇█▇▇▆▆█▆▇█▇▇▆▇▇</td></tr><tr><td>Time Elapsed</td><td>▁▁▂▂▂▃▃▃▃▄▄▄▅▅▅▆▆▆▇▇▇██</td></tr><tr><td>Total Loss</td><td>█▇▇▆▆▆▆▅▅▅▅▄▅▄▄▄▄▃▃▃▃▃▃▂▂▂▂▂▂▂▂▂▁▁▁▁▁▁▁▁</td></tr></table><br/></div><div class=\"wandb-col\"><h3>Run summary:</h3><br/><table class=\"wandb\"><tr><td>Cumulative Reward</td><td>-10.05345</td></tr><tr><td>Policy Loss</td><td>-105.30489</td></tr><tr><td>QNet1 Loss</td><td>0.7312</td></tr><tr><td>QNet2 Loss</td><td>0.44329</td></tr><tr><td>Run Cumulative Reward</td><td>-78.82509</td></tr><tr><td>Time Elapsed</td><td>1381.38342</td></tr><tr><td>Total Loss</td><td>-103.86022</td></tr></table><br/></div></div>"
            ],
            "text/plain": [
              "<IPython.core.display.HTML object>"
            ]
          },
          "metadata": {},
          "output_type": "display_data"
        },
        {
          "data": {
            "text/html": [
              " View run <strong style=\"color:#cdcd00\">run_id=6p544ey3</strong> at: <a href='https://wandb.ai/akirakudo901/BipedalWalker-v3_SAC/runs/6p544ey3' target=\"_blank\">https://wandb.ai/akirakudo901/BipedalWalker-v3_SAC/runs/6p544ey3</a><br/>Synced 5 W&B file(s), 0 media file(s), 0 artifact file(s) and 0 other file(s)"
            ],
            "text/plain": [
              "<IPython.core.display.HTML object>"
            ]
          },
          "metadata": {},
          "output_type": "display_data"
        },
        {
          "data": {
            "text/html": [
              "Find logs at: <code>./wandb/run-20231112_033855-6p544ey3/logs</code>"
            ],
            "text/plain": [
              "<IPython.core.display.HTML object>"
            ]
          },
          "metadata": {},
          "output_type": "display_data"
        },
        {
          "metadata": {
            "tags": null
          },
          "name": "stdout",
          "output_type": "stream",
          "text": [
            "Training: policy_learning_rate_0.005.\n",
            "Using device: cuda\n",
            "Newly generated training id : gzxeggzz will be used for training.\n",
            "Generating 10000 initial experiences...\n"
          ]
        },
        {
          "metadata": {
            "tags": null
          },
          "name": "stderr",
          "output_type": "stream",
          "text": [
            "\u001b[34m\u001b[1mwandb\u001b[0m: Currently logged in as: \u001b[33makirakudo901\u001b[0m. Use \u001b[1m`wandb login --relogin`\u001b[0m to force relogin\n"
          ]
        },
        {
          "metadata": {
            "tags": null
          },
          "name": "stdout",
          "output_type": "stream",
          "text": [
            "Generation successful!\n"
          ]
        },
        {
          "data": {
            "text/html": [
              "Tracking run with wandb version 0.16.0"
            ],
            "text/plain": [
              "<IPython.core.display.HTML object>"
            ]
          },
          "metadata": {},
          "output_type": "display_data"
        },
        {
          "data": {
            "text/html": [
              "Run data is saved locally in <code>/content/drive/MyDrive/MINT/Self_implemented_algorithm_trials/link_unity_to_self_made_agents/wandb/run-20231112_040302-gzxeggzz</code>"
            ],
            "text/plain": [
              "<IPython.core.display.HTML object>"
            ]
          },
          "metadata": {},
          "output_type": "display_data"
        },
        {
          "data": {
            "text/html": [
              "Syncing run <strong><a href='https://wandb.ai/akirakudo901/BipedalWalker-v3_SAC/runs/gzxeggzz' target=\"_blank\">run_id=gzxeggzz</a></strong> to <a href='https://wandb.ai/akirakudo901/BipedalWalker-v3_SAC' target=\"_blank\">Weights & Biases</a> (<a href='https://wandb.me/run' target=\"_blank\">docs</a>)<br/>"
            ],
            "text/plain": [
              "<IPython.core.display.HTML object>"
            ]
          },
          "metadata": {},
          "output_type": "display_data"
        },
        {
          "data": {
            "text/html": [
              " View project at <a href='https://wandb.ai/akirakudo901/BipedalWalker-v3_SAC' target=\"_blank\">https://wandb.ai/akirakudo901/BipedalWalker-v3_SAC</a>"
            ],
            "text/plain": [
              "<IPython.core.display.HTML object>"
            ]
          },
          "metadata": {},
          "output_type": "display_data"
        },
        {
          "data": {
            "text/html": [
              " View run at <a href='https://wandb.ai/akirakudo901/BipedalWalker-v3_SAC/runs/gzxeggzz' target=\"_blank\">https://wandb.ai/akirakudo901/BipedalWalker-v3_SAC/runs/gzxeggzz</a>"
            ],
            "text/plain": [
              "<IPython.core.display.HTML object>"
            ]
          },
          "metadata": {},
          "output_type": "display_data"
        },
        {
          "metadata": {
            "tags": null
          },
          "name": "stdout",
          "output_type": "stream",
          "text": [
            "\n",
            "Training interrupted...\n",
            "Closing envs...\n",
            "Successfully closed envs!\n",
            "Execution time for this session: 30.46925505299987 sec.\n",
            "Execution time for the entire training so far: 46.821646682999926 sec.\n"
          ]
        },
        {
          "data": {
            "application/vnd.jupyter.widget-view+json": {
              "model_id": "f987c21a96454bafac1a5753f8fc667c",
              "version_major": 2,
              "version_minor": 0
            },
            "text/plain": [
              "VBox(children=(Label(value='0.001 MB of 0.001 MB uploaded\\r'), FloatProgress(value=1.0, max=1.0)))"
            ]
          },
          "metadata": {},
          "output_type": "display_data"
        },
        {
          "data": {
            "text/html": [
              "<style>\n",
              "    table.wandb td:nth-child(1) { padding: 0 10px; text-align: left ; width: auto;} td:nth-child(2) {text-align: left ; width: 100%}\n",
              "    .wandb-row { display: flex; flex-direction: row; flex-wrap: wrap; justify-content: flex-start; width: 100% }\n",
              "    .wandb-col { display: flex; flex-direction: column; flex-basis: 100%; flex: 1; padding: 10px; }\n",
              "    </style>\n",
              "<div class=\"wandb-row\"><div class=\"wandb-col\"><h3>Run history:</h3><br/><table class=\"wandb\"><tr><td>Policy Loss</td><td>█▇▇▇▆▆▆▆▆▆▆▆▆▆▆▅▅▅▅▅▅▄▄▄▄▃▃▃▃▃▃▃▂▂▂▂▂▂▁▁</td></tr><tr><td>QNet1 Loss</td><td>▄▄▄▆▄▆▄▆▁▃██▅▁▇▇█▃▄▅▃▁▅▁▁▂▂▃▂▂▃▃▂▂▂▃▁▂▁▁</td></tr><tr><td>QNet2 Loss</td><td>▄▄▄▆▄▆▄▆▁▃██▅▁▇▇█▃▄▅▃▁▅▁▁▂▂▃▂▂▃▃▂▁▂▂▁▂▁▁</td></tr><tr><td>Run Cumulative Reward</td><td>▁</td></tr><tr><td>Total Loss</td><td>▄▄▄▆▄▆▄▆▁▄██▆▂▇▇█▃▄▅▃▁▅▁▁▂▂▃▂▂▃▃▂▁▂▂▁▂▁▁</td></tr></table><br/></div><div class=\"wandb-col\"><h3>Run summary:</h3><br/><table class=\"wandb\"><tr><td>Policy Loss</td><td>-6.74092</td></tr><tr><td>QNet1 Loss</td><td>1.40834</td></tr><tr><td>QNet2 Loss</td><td>0.88466</td></tr><tr><td>Run Cumulative Reward</td><td>-87.32196</td></tr><tr><td>Total Loss</td><td>-4.44792</td></tr></table><br/></div></div>"
            ],
            "text/plain": [
              "<IPython.core.display.HTML object>"
            ]
          },
          "metadata": {},
          "output_type": "display_data"
        },
        {
          "data": {
            "text/html": [
              " View run <strong style=\"color:#cdcd00\">run_id=gzxeggzz</strong> at: <a href='https://wandb.ai/akirakudo901/BipedalWalker-v3_SAC/runs/gzxeggzz' target=\"_blank\">https://wandb.ai/akirakudo901/BipedalWalker-v3_SAC/runs/gzxeggzz</a><br/>Synced 5 W&B file(s), 0 media file(s), 0 artifact file(s) and 0 other file(s)"
            ],
            "text/plain": [
              "<IPython.core.display.HTML object>"
            ]
          },
          "metadata": {},
          "output_type": "display_data"
        },
        {
          "data": {
            "text/html": [
              "Find logs at: <code>./wandb/run-20231112_040302-gzxeggzz/logs</code>"
            ],
            "text/plain": [
              "<IPython.core.display.HTML object>"
            ]
          },
          "metadata": {},
          "output_type": "display_data"
        },
        {
          "metadata": {
            "tags": null
          },
          "name": "stdout",
          "output_type": "stream",
          "text": [
            "Training: policy_learning_rate_0.0005.\n",
            "Using device: cuda\n",
            "Newly generated training id : y5e1nuqc will be used for training.\n",
            "Generating 10000 initial experiences...\n",
            "Generation successful!\n"
          ]
        },
        {
          "data": {
            "text/html": [
              "Tracking run with wandb version 0.16.0"
            ],
            "text/plain": [
              "<IPython.core.display.HTML object>"
            ]
          },
          "metadata": {},
          "output_type": "display_data"
        },
        {
          "data": {
            "text/html": [
              "Run data is saved locally in <code>/content/drive/MyDrive/MINT/Self_implemented_algorithm_trials/link_unity_to_self_made_agents/wandb/run-20231112_040359-y5e1nuqc</code>"
            ],
            "text/plain": [
              "<IPython.core.display.HTML object>"
            ]
          },
          "metadata": {},
          "output_type": "display_data"
        },
        {
          "data": {
            "text/html": [
              "Syncing run <strong><a href='https://wandb.ai/akirakudo901/BipedalWalker-v3_SAC/runs/y5e1nuqc' target=\"_blank\">run_id=y5e1nuqc</a></strong> to <a href='https://wandb.ai/akirakudo901/BipedalWalker-v3_SAC' target=\"_blank\">Weights & Biases</a> (<a href='https://wandb.me/run' target=\"_blank\">docs</a>)<br/>"
            ],
            "text/plain": [
              "<IPython.core.display.HTML object>"
            ]
          },
          "metadata": {},
          "output_type": "display_data"
        },
        {
          "data": {
            "text/html": [
              " View project at <a href='https://wandb.ai/akirakudo901/BipedalWalker-v3_SAC' target=\"_blank\">https://wandb.ai/akirakudo901/BipedalWalker-v3_SAC</a>"
            ],
            "text/plain": [
              "<IPython.core.display.HTML object>"
            ]
          },
          "metadata": {},
          "output_type": "display_data"
        },
        {
          "data": {
            "text/html": [
              " View run at <a href='https://wandb.ai/akirakudo901/BipedalWalker-v3_SAC/runs/y5e1nuqc' target=\"_blank\">https://wandb.ai/akirakudo901/BipedalWalker-v3_SAC/runs/y5e1nuqc</a>"
            ],
            "text/plain": [
              "<IPython.core.display.HTML object>"
            ]
          },
          "metadata": {},
          "output_type": "display_data"
        },
        {
          "metadata": {
            "tags": null
          },
          "name": "stdout",
          "output_type": "stream",
          "text": [
            "Training loop 1600/80000 successfully ended: reward=-113.67351207727039.\n",
            "\n",
            "Training loop 3200/80000 successfully ended: reward=-105.31917169471504.\n",
            "\n",
            "Training loop 4800/80000 successfully ended: reward=-97.78065244604522.\n",
            "\n",
            "Training loop 6400/80000 successfully ended: reward=-18.426063180761165.\n",
            "\n",
            "Training loop 8000/80000 successfully ended: reward=-16.948377960581904.\n",
            "\n",
            "Training loop 9600/80000 successfully ended: reward=-15.140000428304498.\n",
            "\n",
            "Training loop 11200/80000 successfully ended: reward=-4.693802250991939.\n",
            "\n",
            "Training loop 12800/80000 successfully ended: reward=-7.394061463818652.\n",
            "\n",
            "Training loop 14400/80000 successfully ended: reward=-16.25294873538148.\n",
            "\n",
            "Training loop 16000/80000 successfully ended: reward=-14.206822768705718.\n",
            "\n",
            "Training loop 17600/80000 successfully ended: reward=-3.113285754842973.\n",
            "\n",
            "Training loop 19200/80000 successfully ended: reward=-15.649708994264564.\n",
            "\n",
            "Training loop 20800/80000 successfully ended: reward=-8.648525762321443.\n",
            "\n",
            "Training loop 22400/80000 successfully ended: reward=-16.94404196361973.\n",
            "\n",
            "Training loop 24000/80000 successfully ended: reward=-12.200169972271048.\n",
            "\n",
            "Training loop 25600/80000 successfully ended: reward=-115.6656668499975.\n",
            "\n",
            "Training loop 27200/80000 successfully ended: reward=-16.17180873303382.\n",
            "\n",
            "Training loop 28800/80000 successfully ended: reward=-114.78708052404411.\n",
            "\n",
            "Training loop 30400/80000 successfully ended: reward=-25.79340013763789.\n",
            "\n",
            "Training loop 32000/80000 successfully ended: reward=-115.20518461320255.\n",
            "\n",
            "Training loop 33600/80000 successfully ended: reward=-14.218902719104126.\n",
            "\n",
            "Training loop 35200/80000 successfully ended: reward=-30.233033656970054.\n",
            "\n",
            "Training loop 36800/80000 successfully ended: reward=-115.0074133525888.\n",
            "\n",
            "Training loop 38400/80000 successfully ended: reward=-16.06961173789731.\n",
            "\n",
            "Training loop 40000/80000 successfully ended: reward=-117.33351354838518.\n",
            "\n",
            "Training loop 41600/80000 successfully ended: reward=-13.229578794687678.\n",
            "\n",
            "Training loop 43200/80000 successfully ended: reward=-10.404790811287889.\n",
            "\n",
            "Training loop 44800/80000 successfully ended: reward=-117.86273735980495.\n",
            "\n",
            "Training loop 46400/80000 successfully ended: reward=-108.75424679628014.\n",
            "\n",
            "Training loop 48000/80000 successfully ended: reward=-13.986517853096624.\n",
            "\n",
            "Training loop 49600/80000 successfully ended: reward=-13.652590918790299.\n",
            "\n",
            "Training loop 51200/80000 successfully ended: reward=-11.64126808631913.\n",
            "\n",
            "Training loop 52800/80000 successfully ended: reward=-9.713421768067068.\n",
            "\n",
            "Training loop 54400/80000 successfully ended: reward=-12.645337767813395.\n",
            "\n",
            "Training loop 56000/80000 successfully ended: reward=-11.834884850939515.\n",
            "\n",
            "Training loop 57600/80000 successfully ended: reward=-14.760834184210792.\n",
            "\n",
            "Training loop 59200/80000 successfully ended: reward=-15.90014126291181.\n",
            "\n",
            "Training loop 60800/80000 successfully ended: reward=-16.0784545718668.\n",
            "\n",
            "Training loop 62400/80000 successfully ended: reward=-18.126807659236352.\n",
            "\n",
            "Training loop 64000/80000 successfully ended: reward=-15.841557465629924.\n",
            "\n",
            "Training loop 65600/80000 successfully ended: reward=-15.358933627208675.\n",
            "\n",
            "Training loop 67200/80000 successfully ended: reward=-15.88841145860564.\n",
            "\n",
            "Training loop 68800/80000 successfully ended: reward=-11.466146672965131.\n",
            "\n",
            "Training loop 70400/80000 successfully ended: reward=-12.461166328223516.\n",
            "\n",
            "Training loop 72000/80000 successfully ended: reward=-11.159488140703365.\n",
            "\n",
            "Training loop 73600/80000 successfully ended: reward=-11.814553095210968.\n",
            "\n",
            "Training loop 75200/80000 successfully ended: reward=-11.628045182543097.\n",
            "\n",
            "Training loop 76800/80000 successfully ended: reward=-11.971427267149876.\n",
            "\n",
            "Training loop 78400/80000 successfully ended: reward=-13.13499791255407.\n",
            "\n",
            "Training loop 80000/80000 successfully ended: reward=-13.29237331658567.\n",
            "\n",
            "Training ended successfully!\n",
            "Closing envs...\n",
            "Successfully closed envs!\n",
            "Execution time for this session: 3160.6556606970003 sec.\n",
            "Execution time for the entire training so far: 3176.4796979740004 sec.\n"
          ]
        },
        {
          "data": {
            "application/vnd.jupyter.widget-view+json": {
              "model_id": "0ca15bf0ca9942f292dfbc4e3b5e6a61",
              "version_major": 2,
              "version_minor": 0
            },
            "text/plain": [
              "VBox(children=(Label(value='0.001 MB of 0.011 MB uploaded\\r'), FloatProgress(value=0.1300778605280975, max=1.0…"
            ]
          },
          "metadata": {},
          "output_type": "display_data"
        },
        {
          "data": {
            "text/html": [
              "<style>\n",
              "    table.wandb td:nth-child(1) { padding: 0 10px; text-align: left ; width: auto;} td:nth-child(2) {text-align: left ; width: 100%}\n",
              "    .wandb-row { display: flex; flex-direction: row; flex-wrap: wrap; justify-content: flex-start; width: 100% }\n",
              "    .wandb-col { display: flex; flex-direction: column; flex-basis: 100%; flex: 1; padding: 10px; }\n",
              "    </style>\n",
              "<div class=\"wandb-row\"><div class=\"wandb-col\"><h3>Run history:</h3><br/><table class=\"wandb\"><tr><td>Cumulative Reward</td><td>▁▂▂▇▇██▇█▇█▇▁▇▁▇▇▆▁▇▇█▁▂▇▇█▇▇▇▇▇▇▇▇▇▇▇▇▇</td></tr><tr><td>Policy Loss</td><td>██▇▆▆▆▅▅▄▄▄▃▃▃▃▃▂▂▂▂▂▂▂▂▂▂▂▁▁▁▁▁▁▁▁▁▁▁▁▁</td></tr><tr><td>QNet1 Loss</td><td>▁▁▁▁▁▁▁▁▁▁▁▁▁▁▁█▁▁▁▁▁▁▁▁▁▁▁▁▁▁▁▁▁▁▁▁▁▁▁▁</td></tr><tr><td>QNet2 Loss</td><td>▂▁▁▁▁▁▁▁▁▁▁▁▁▁▁█▁▁▁▁▁▁▁▁▁▁▁▁▁▁▁▁▁▁▁▁▁▁▁▁</td></tr><tr><td>Run Cumulative Reward</td><td>▆▁▂▁▂▆▄▆▂▂▇▇▇█▆▇▅▇▅▆▆█▇▇█▇█▇▇▆▇▆▇█▇▇▇█▇▇</td></tr><tr><td>Time Elapsed</td><td>▁▁▁▁▂▂▂▂▂▂▂▃▃▃▃▃▄▄▄▄▄▄▅▅▅▅▅▅▆▆▆▆▇▇▇▇▇▇██</td></tr><tr><td>Total Loss</td><td>▅▄▄▄▃▃▃▃▃▂▂▂▂▂▂█▂▂▂▂▁▁▁▁▁▁▁▁▁▁▁▁▁▁▁▁▁▁▁▁</td></tr></table><br/></div><div class=\"wandb-col\"><h3>Run summary:</h3><br/><table class=\"wandb\"><tr><td>Cumulative Reward</td><td>-13.29237</td></tr><tr><td>Policy Loss</td><td>-120.6161</td></tr><tr><td>QNet1 Loss</td><td>0.75881</td></tr><tr><td>QNet2 Loss</td><td>0.64654</td></tr><tr><td>Run Cumulative Reward</td><td>-79.99832</td></tr><tr><td>Time Elapsed</td><td>3164.14555</td></tr><tr><td>Total Loss</td><td>-119.21074</td></tr></table><br/></div></div>"
            ],
            "text/plain": [
              "<IPython.core.display.HTML object>"
            ]
          },
          "metadata": {},
          "output_type": "display_data"
        },
        {
          "data": {
            "text/html": [
              " View run <strong style=\"color:#cdcd00\">run_id=y5e1nuqc</strong> at: <a href='https://wandb.ai/akirakudo901/BipedalWalker-v3_SAC/runs/y5e1nuqc' target=\"_blank\">https://wandb.ai/akirakudo901/BipedalWalker-v3_SAC/runs/y5e1nuqc</a><br/>Synced 5 W&B file(s), 0 media file(s), 0 artifact file(s) and 0 other file(s)"
            ],
            "text/plain": [
              "<IPython.core.display.HTML object>"
            ]
          },
          "metadata": {},
          "output_type": "display_data"
        },
        {
          "data": {
            "text/html": [
              "Find logs at: <code>./wandb/run-20231112_040359-y5e1nuqc/logs</code>"
            ],
            "text/plain": [
              "<IPython.core.display.HTML object>"
            ]
          },
          "metadata": {},
          "output_type": "display_data"
        },
        {
          "metadata": {
            "tags": null
          },
          "name": "stdout",
          "output_type": "stream",
          "text": [
            "Training: policy_learning_rate_0.0001.\n",
            "Using device: cuda\n",
            "Newly generated training id : 7vg7qpt3 will be used for training.\n",
            "Generating 10000 initial experiences...\n",
            "Generation successful!\n"
          ]
        },
        {
          "data": {
            "text/html": [
              "Tracking run with wandb version 0.16.0"
            ],
            "text/plain": [
              "<IPython.core.display.HTML object>"
            ]
          },
          "metadata": {},
          "output_type": "display_data"
        },
        {
          "data": {
            "text/html": [
              "Run data is saved locally in <code>/content/drive/MyDrive/MINT/Self_implemented_algorithm_trials/link_unity_to_self_made_agents/wandb/run-20231112_045705-7vg7qpt3</code>"
            ],
            "text/plain": [
              "<IPython.core.display.HTML object>"
            ]
          },
          "metadata": {},
          "output_type": "display_data"
        },
        {
          "data": {
            "text/html": [
              "Syncing run <strong><a href='https://wandb.ai/akirakudo901/BipedalWalker-v3_SAC/runs/7vg7qpt3' target=\"_blank\">run_id=7vg7qpt3</a></strong> to <a href='https://wandb.ai/akirakudo901/BipedalWalker-v3_SAC' target=\"_blank\">Weights & Biases</a> (<a href='https://wandb.me/run' target=\"_blank\">docs</a>)<br/>"
            ],
            "text/plain": [
              "<IPython.core.display.HTML object>"
            ]
          },
          "metadata": {},
          "output_type": "display_data"
        },
        {
          "data": {
            "text/html": [
              " View project at <a href='https://wandb.ai/akirakudo901/BipedalWalker-v3_SAC' target=\"_blank\">https://wandb.ai/akirakudo901/BipedalWalker-v3_SAC</a>"
            ],
            "text/plain": [
              "<IPython.core.display.HTML object>"
            ]
          },
          "metadata": {},
          "output_type": "display_data"
        },
        {
          "data": {
            "text/html": [
              " View run at <a href='https://wandb.ai/akirakudo901/BipedalWalker-v3_SAC/runs/7vg7qpt3' target=\"_blank\">https://wandb.ai/akirakudo901/BipedalWalker-v3_SAC/runs/7vg7qpt3</a>"
            ],
            "text/plain": [
              "<IPython.core.display.HTML object>"
            ]
          },
          "metadata": {},
          "output_type": "display_data"
        },
        {
          "metadata": {
            "tags": null
          },
          "name": "stdout",
          "output_type": "stream",
          "text": [
            "Training loop 1600/80000 successfully ended: reward=-103.03895021804593.\n",
            "\n",
            "Training loop 3200/80000 successfully ended: reward=-101.18550150048763.\n",
            "\n",
            "Training loop 4800/80000 successfully ended: reward=-96.44910785791045.\n",
            "\n",
            "Training loop 6400/80000 successfully ended: reward=-100.25941929922719.\n",
            "\n",
            "Training loop 8000/80000 successfully ended: reward=-20.23391067403272.\n",
            "\n",
            "Training loop 9600/80000 successfully ended: reward=-14.60113416562211.\n",
            "\n",
            "Training loop 11200/80000 successfully ended: reward=-8.709635468926805.\n",
            "\n",
            "Training loop 12800/80000 successfully ended: reward=-9.258679485215064.\n",
            "\n",
            "Training loop 14400/80000 successfully ended: reward=-32.148703107574036.\n",
            "\n",
            "Training loop 16000/80000 successfully ended: reward=-6.418781635861748.\n",
            "\n",
            "Training loop 17600/80000 successfully ended: reward=-2.4805946321129366.\n",
            "\n",
            "Training loop 19200/80000 successfully ended: reward=-3.6499079628518083.\n",
            "\n",
            "Training loop 20800/80000 successfully ended: reward=-10.428321095943753.\n",
            "\n",
            "Training loop 22400/80000 successfully ended: reward=-13.815878459985145.\n",
            "\n",
            "Training loop 24000/80000 successfully ended: reward=-70.20306111105663.\n",
            "\n",
            "Training loop 25600/80000 successfully ended: reward=-17.768093208657245.\n",
            "\n",
            "Training loop 27200/80000 successfully ended: reward=-9.18171414524981.\n",
            "\n",
            "Training loop 28800/80000 successfully ended: reward=-9.857015969934604.\n",
            "\n",
            "Training loop 30400/80000 successfully ended: reward=-8.298601203619764.\n",
            "\n",
            "Training loop 32000/80000 successfully ended: reward=-9.092719096624178.\n",
            "\n",
            "Training loop 33600/80000 successfully ended: reward=-6.9469812905142865.\n",
            "\n",
            "Training loop 35200/80000 successfully ended: reward=-9.6573328163964.\n",
            "\n",
            "Training loop 36800/80000 successfully ended: reward=-7.454789568176683.\n",
            "\n",
            "Training loop 38400/80000 successfully ended: reward=-8.870633794342366.\n",
            "\n",
            "Training loop 40000/80000 successfully ended: reward=-9.044426034750218.\n",
            "\n",
            "Training loop 41600/80000 successfully ended: reward=-9.276451644048041.\n",
            "\n",
            "Training loop 43200/80000 successfully ended: reward=-11.47130423610687.\n",
            "\n",
            "Training loop 44800/80000 successfully ended: reward=-11.178130169309561.\n",
            "\n",
            "Training loop 46400/80000 successfully ended: reward=-10.056788792139981.\n",
            "\n",
            "Training loop 48000/80000 successfully ended: reward=-13.797754472705238.\n",
            "\n",
            "Training loop 49600/80000 successfully ended: reward=-19.7242809360096.\n",
            "\n",
            "Training loop 51200/80000 successfully ended: reward=-11.061508028781113.\n",
            "\n",
            "Training loop 52800/80000 successfully ended: reward=-10.277870376227858.\n",
            "\n",
            "Training loop 54400/80000 successfully ended: reward=-15.741615895665714.\n",
            "\n",
            "Training loop 56000/80000 successfully ended: reward=-11.000756490445026.\n",
            "\n",
            "Training loop 57600/80000 successfully ended: reward=-13.847455842573208.\n",
            "\n",
            "Training loop 59200/80000 successfully ended: reward=-13.782511165111991.\n",
            "\n",
            "Training loop 60800/80000 successfully ended: reward=-14.570277884343074.\n",
            "\n",
            "Training loop 62400/80000 successfully ended: reward=-12.296517091584192.\n",
            "\n",
            "Training loop 64000/80000 successfully ended: reward=-13.112417825351177.\n",
            "\n",
            "Training loop 65600/80000 successfully ended: reward=-11.751868630739157.\n",
            "\n",
            "Training loop 67200/80000 successfully ended: reward=-17.021164654089457.\n",
            "\n",
            "Training loop 68800/80000 successfully ended: reward=-14.263374098832058.\n",
            "\n",
            "Training loop 70400/80000 successfully ended: reward=-16.02662148221533.\n",
            "\n",
            "Training loop 72000/80000 successfully ended: reward=-12.578734627375427.\n",
            "\n",
            "Training loop 73600/80000 successfully ended: reward=-16.7531228183703.\n",
            "\n",
            "Training loop 75200/80000 successfully ended: reward=-14.524635278728558.\n",
            "\n",
            "Training loop 76800/80000 successfully ended: reward=-34.720478830136884.\n",
            "\n",
            "Training loop 78400/80000 successfully ended: reward=-15.954971829851718.\n",
            "\n",
            "Training loop 80000/80000 successfully ended: reward=-13.564685138314298.\n",
            "\n",
            "Training ended successfully!\n",
            "Closing envs...\n",
            "Successfully closed envs!\n",
            "Execution time for this session: 3202.783010198 sec.\n",
            "Execution time for the entire training so far: 3219.217235083999 sec.\n"
          ]
        },
        {
          "data": {
            "application/vnd.jupyter.widget-view+json": {
              "model_id": "62ac1d15c6bd4d8ea07c3dbc0df3c1e7",
              "version_major": 2,
              "version_minor": 0
            },
            "text/plain": [
              "VBox(children=(Label(value='0.001 MB of 0.001 MB uploaded\\r'), FloatProgress(value=1.0, max=1.0)))"
            ]
          },
          "metadata": {},
          "output_type": "display_data"
        },
        {
          "data": {
            "text/html": [
              "<style>\n",
              "    table.wandb td:nth-child(1) { padding: 0 10px; text-align: left ; width: auto;} td:nth-child(2) {text-align: left ; width: 100%}\n",
              "    .wandb-row { display: flex; flex-direction: row; flex-wrap: wrap; justify-content: flex-start; width: 100% }\n",
              "    .wandb-col { display: flex; flex-direction: column; flex-basis: 100%; flex: 1; padding: 10px; }\n",
              "    </style>\n",
              "<div class=\"wandb-row\"><div class=\"wandb-col\"><h3>Run history:</h3><br/><table class=\"wandb\"><tr><td>Cumulative Reward</td><td>▁▁▁▁▇██▆██▇▇▇█▇██████▇▇▇▇▇▇▇▇▇▇▇▇▇▇▇▇▇▆▇</td></tr><tr><td>Policy Loss</td><td>██▇▇▆▆▅▅▄▄▄▄▃▃▃▃▃▂▂▂▂▂▂▂▂▂▁▁▁▁▁▁▁▁▁▁▁▁▁▁</td></tr><tr><td>QNet1 Loss</td><td>█▁▂▂▁▂▃▃▂▃▃▃▅▄▄▃▃▃▂▃▂▃▃▂▃▅▃▃▅▃▅▄▂▄▃▄▃▃▃▅</td></tr><tr><td>QNet2 Loss</td><td>█▁▂▂▁▂▂▃▂▂▃▃▄▃▃▃▂▂▃▃▁▃▂▂▃▃▃▃▄▂▃▂▃▃▂▃▂▂▃▂</td></tr><tr><td>Run Cumulative Reward</td><td>▄▅▂▁▆▃▁▇█▂▅▆▇█▇█▆▇▇▅█▇▇▆▆▆▆█▆▇▇██▇▅▇▆▄▆▇</td></tr><tr><td>Time Elapsed</td><td>▁▁▁▁▂▂▂▂▂▂▂▃▃▃▃▃▄▄▄▄▄▄▅▅▅▅▅▅▆▆▆▆▇▇▇▇▇███</td></tr><tr><td>Total Loss</td><td>█▇▇▆▆▅▅▅▄▄▄▄▃▃▃▃▂▂▂▂▂▂▂▂▂▂▁▁▁▁▁▁▁▁▁▁▁▁▁▁</td></tr></table><br/></div><div class=\"wandb-col\"><h3>Run summary:</h3><br/><table class=\"wandb\"><tr><td>Cumulative Reward</td><td>-13.56469</td></tr><tr><td>Policy Loss</td><td>-121.60065</td></tr><tr><td>QNet1 Loss</td><td>0.50076</td></tr><tr><td>QNet2 Loss</td><td>0.61473</td></tr><tr><td>Run Cumulative Reward</td><td>-84.71753</td></tr><tr><td>Time Elapsed</td><td>3205.95469</td></tr><tr><td>Total Loss</td><td>-120.48516</td></tr></table><br/></div></div>"
            ],
            "text/plain": [
              "<IPython.core.display.HTML object>"
            ]
          },
          "metadata": {},
          "output_type": "display_data"
        },
        {
          "data": {
            "text/html": [
              " View run <strong style=\"color:#cdcd00\">run_id=7vg7qpt3</strong> at: <a href='https://wandb.ai/akirakudo901/BipedalWalker-v3_SAC/runs/7vg7qpt3' target=\"_blank\">https://wandb.ai/akirakudo901/BipedalWalker-v3_SAC/runs/7vg7qpt3</a><br/>Synced 5 W&B file(s), 0 media file(s), 0 artifact file(s) and 0 other file(s)"
            ],
            "text/plain": [
              "<IPython.core.display.HTML object>"
            ]
          },
          "metadata": {},
          "output_type": "display_data"
        },
        {
          "data": {
            "text/html": [
              "Find logs at: <code>./wandb/run-20231112_045705-7vg7qpt3/logs</code>"
            ],
            "text/plain": [
              "<IPython.core.display.HTML object>"
            ]
          },
          "metadata": {},
          "output_type": "display_data"
        },
        {
          "metadata": {
            "tags": null
          },
          "name": "stdout",
          "output_type": "stream",
          "text": [
            "Training: policy_learning_rate_5e-05.\n",
            "Using device: cuda\n",
            "Newly generated training id : k6od38e2 will be used for training.\n",
            "Generating 10000 initial experiences...\n",
            "Generation successful!\n"
          ]
        },
        {
          "data": {
            "text/html": [
              "Tracking run with wandb version 0.16.0"
            ],
            "text/plain": [
              "<IPython.core.display.HTML object>"
            ]
          },
          "metadata": {},
          "output_type": "display_data"
        },
        {
          "data": {
            "text/html": [
              "Run data is saved locally in <code>/content/drive/MyDrive/MINT/Self_implemented_algorithm_trials/link_unity_to_self_made_agents/wandb/run-20231112_055055-k6od38e2</code>"
            ],
            "text/plain": [
              "<IPython.core.display.HTML object>"
            ]
          },
          "metadata": {},
          "output_type": "display_data"
        },
        {
          "data": {
            "text/html": [
              "Syncing run <strong><a href='https://wandb.ai/akirakudo901/BipedalWalker-v3_SAC/runs/k6od38e2' target=\"_blank\">run_id=k6od38e2</a></strong> to <a href='https://wandb.ai/akirakudo901/BipedalWalker-v3_SAC' target=\"_blank\">Weights & Biases</a> (<a href='https://wandb.me/run' target=\"_blank\">docs</a>)<br/>"
            ],
            "text/plain": [
              "<IPython.core.display.HTML object>"
            ]
          },
          "metadata": {},
          "output_type": "display_data"
        },
        {
          "data": {
            "text/html": [
              " View project at <a href='https://wandb.ai/akirakudo901/BipedalWalker-v3_SAC' target=\"_blank\">https://wandb.ai/akirakudo901/BipedalWalker-v3_SAC</a>"
            ],
            "text/plain": [
              "<IPython.core.display.HTML object>"
            ]
          },
          "metadata": {},
          "output_type": "display_data"
        },
        {
          "data": {
            "text/html": [
              " View run at <a href='https://wandb.ai/akirakudo901/BipedalWalker-v3_SAC/runs/k6od38e2' target=\"_blank\">https://wandb.ai/akirakudo901/BipedalWalker-v3_SAC/runs/k6od38e2</a>"
            ],
            "text/plain": [
              "<IPython.core.display.HTML object>"
            ]
          },
          "metadata": {},
          "output_type": "display_data"
        },
        {
          "output_type": "stream",
          "name": "stdout",
          "text": [
            "Training loop 1600/80000 successfully ended: reward=-30.789514506455767.\n",
            "\n",
            "Training loop 3200/80000 successfully ended: reward=-13.069799970985862.\n",
            "\n",
            "Training loop 4800/80000 successfully ended: reward=-5.803897000032436.\n",
            "\n",
            "Training loop 6400/80000 successfully ended: reward=-15.631738802026183.\n",
            "\n",
            "Training loop 8000/80000 successfully ended: reward=-94.10031409251255.\n",
            "\n",
            "Training loop 9600/80000 successfully ended: reward=-10.693681102317173.\n",
            "\n",
            "Training loop 11200/80000 successfully ended: reward=-8.956568202979188.\n",
            "\n",
            "Training loop 12800/80000 successfully ended: reward=-15.811781232918312.\n",
            "\n",
            "Training loop 14400/80000 successfully ended: reward=-14.96064662591856.\n",
            "\n",
            "Training loop 16000/80000 successfully ended: reward=-8.104657326309004.\n",
            "\n",
            "Training loop 17600/80000 successfully ended: reward=-16.914649182167473.\n",
            "\n",
            "Training loop 19200/80000 successfully ended: reward=-119.07613038534609.\n",
            "\n",
            "Training loop 20800/80000 successfully ended: reward=-23.64655187529611.\n",
            "\n",
            "Training loop 22400/80000 successfully ended: reward=-109.1626009177183.\n",
            "\n",
            "Training loop 24000/80000 successfully ended: reward=-108.89112844617704.\n",
            "\n",
            "Training loop 25600/80000 successfully ended: reward=-108.69786146737938.\n",
            "\n",
            "Training loop 27200/80000 successfully ended: reward=-107.20197058456918.\n",
            "\n",
            "Training loop 28800/80000 successfully ended: reward=-24.3182317593839.\n",
            "\n",
            "Training loop 30400/80000 successfully ended: reward=-109.01375526521541.\n",
            "\n",
            "Training loop 32000/80000 successfully ended: reward=-8.207430908472473.\n",
            "\n",
            "Training loop 33600/80000 successfully ended: reward=-20.64793168526656.\n",
            "\n",
            "Training loop 35200/80000 successfully ended: reward=-10.473657403619722.\n",
            "\n",
            "Training loop 36800/80000 successfully ended: reward=-9.236177368101728.\n",
            "\n",
            "Training loop 38400/80000 successfully ended: reward=-10.652062250938215.\n",
            "\n",
            "Training loop 40000/80000 successfully ended: reward=-9.332453591476487.\n",
            "\n",
            "Training loop 41600/80000 successfully ended: reward=-10.674933228080794.\n",
            "\n",
            "Training loop 43200/80000 successfully ended: reward=-10.656089862254857.\n",
            "\n",
            "Training loop 44800/80000 successfully ended: reward=-12.444378817554105.\n",
            "\n",
            "Training loop 46400/80000 successfully ended: reward=-12.41829022337277.\n",
            "\n",
            "Training loop 48000/80000 successfully ended: reward=-9.553154464252254.\n",
            "\n",
            "Training loop 49600/80000 successfully ended: reward=-8.013408734210122.\n",
            "\n",
            "Training loop 51200/80000 successfully ended: reward=-7.303935443375805.\n",
            "\n",
            "Training loop 52800/80000 successfully ended: reward=-7.224103417636856.\n",
            "\n",
            "Training loop 54400/80000 successfully ended: reward=-7.677108470520626.\n",
            "\n",
            "Training loop 56000/80000 successfully ended: reward=-7.118533543318486.\n",
            "\n",
            "Training loop 57600/80000 successfully ended: reward=-5.108220256485193.\n",
            "\n",
            "Training loop 59200/80000 successfully ended: reward=-5.584188850696501.\n",
            "\n",
            "Training loop 60800/80000 successfully ended: reward=-4.6477869541712105.\n",
            "\n",
            "Training loop 62400/80000 successfully ended: reward=-3.6275446724345852.\n",
            "\n",
            "Training loop 64000/80000 successfully ended: reward=-8.985660497588114.\n",
            "\n",
            "Training loop 65600/80000 successfully ended: reward=-9.42254182110732.\n",
            "\n",
            "Training loop 67200/80000 successfully ended: reward=-9.100069622678426.\n",
            "\n",
            "Training loop 68800/80000 successfully ended: reward=-9.35089413803536.\n",
            "\n",
            "Training loop 70400/80000 successfully ended: reward=-8.547197362342066.\n",
            "\n",
            "Training loop 72000/80000 successfully ended: reward=-1.9770255862334236.\n",
            "\n",
            "Training loop 73600/80000 successfully ended: reward=-8.973013769912468.\n",
            "\n",
            "Training loop 75200/80000 successfully ended: reward=-6.680512373952251.\n",
            "\n",
            "Training loop 76800/80000 successfully ended: reward=-8.04020438117695.\n",
            "\n",
            "Training loop 78400/80000 successfully ended: reward=-10.028373860954575.\n",
            "\n",
            "Training loop 80000/80000 successfully ended: reward=-9.082231765455573.\n",
            "\n",
            "Training ended successfully!\n",
            "Closing envs...\n",
            "Successfully closed envs!\n",
            "Execution time for this session: 3222.4718763540004 sec.\n",
            "Execution time for the entire training so far: 3239.152410550001 sec.\n"
          ]
        },
        {
          "output_type": "display_data",
          "data": {
            "text/plain": [
              "VBox(children=(Label(value='0.001 MB of 0.001 MB uploaded\\r'), FloatProgress(value=1.0, max=1.0)))"
            ],
            "application/vnd.jupyter.widget-view+json": {
              "version_major": 2,
              "version_minor": 0,
              "model_id": "047a138be1f84156ae3420875aa164c3"
            }
          },
          "metadata": {}
        },
        {
          "output_type": "display_data",
          "data": {
            "text/plain": [
              "<IPython.core.display.HTML object>"
            ],
            "text/html": [
              "<style>\n",
              "    table.wandb td:nth-child(1) { padding: 0 10px; text-align: left ; width: auto;} td:nth-child(2) {text-align: left ; width: 100%}\n",
              "    .wandb-row { display: flex; flex-direction: row; flex-wrap: wrap; justify-content: flex-start; width: 100% }\n",
              "    .wandb-col { display: flex; flex-direction: column; flex-basis: 100%; flex: 1; padding: 10px; }\n",
              "    </style>\n",
              "<div class=\"wandb-row\"><div class=\"wandb-col\"><h3>Run history:</h3><br/><table class=\"wandb\"><tr><td>Cumulative Reward</td><td>▆▇█▇██▇▇▇▁▇▂▂▂▇▂▇█████▇▇████████████████</td></tr><tr><td>Policy Loss</td><td>██▇▆▆▆▅▅▄▄▄▄▃▃▃▃▃▂▂▂▂▂▂▂▂▂▁▁▁▁▁▁▁▁▁▁▁▁▁▁</td></tr><tr><td>QNet1 Loss</td><td>█▁▁▁▂▁▁▂▂▂▃▃▃▂▅▂▃▂▂▃▂▂▂▁▃▂▂▂▂▂▂▂▁▁▁▁▁▁▁▂</td></tr><tr><td>QNet2 Loss</td><td>█▁▁▁▂▁▁▂▂▃▂▃▄▂▆▂▃▂▂▃▂▂▂▂▂▃▂▂▂▂▂▂▂▂▁▁▁▂▁▂</td></tr><tr><td>Run Cumulative Reward</td><td>▆██▁▅▃▇▇█▇▇▃▆▅▆▄▅▆▇▇▇▇▇▇▆▆█▇███▇▇█▇▇▇▇▇█</td></tr><tr><td>Time Elapsed</td><td>▁▁▁▁▂▂▂▂▂▂▂▃▃▃▃▃▄▄▄▄▄▄▅▅▅▅▅▅▆▆▆▆▇▇▇▇▇███</td></tr><tr><td>Total Loss</td><td>█▇▇▆▆▅▅▅▄▄▄▄▃▃▃▃▃▂▂▂▂▂▂▂▂▂▂▁▁▁▁▁▁▁▁▁▁▁▁▁</td></tr></table><br/></div><div class=\"wandb-col\"><h3>Run summary:</h3><br/><table class=\"wandb\"><tr><td>Cumulative Reward</td><td>-9.08223</td></tr><tr><td>Policy Loss</td><td>-123.67213</td></tr><tr><td>QNet1 Loss</td><td>0.29437</td></tr><tr><td>QNet2 Loss</td><td>0.21516</td></tr><tr><td>Run Cumulative Reward</td><td>-77.1173</td></tr><tr><td>Time Elapsed</td><td>3226.59558</td></tr><tr><td>Total Loss</td><td>-123.16261</td></tr></table><br/></div></div>"
            ]
          },
          "metadata": {}
        },
        {
          "output_type": "display_data",
          "data": {
            "text/plain": [
              "<IPython.core.display.HTML object>"
            ],
            "text/html": [
              " View run <strong style=\"color:#cdcd00\">run_id=k6od38e2</strong> at: <a href='https://wandb.ai/akirakudo901/BipedalWalker-v3_SAC/runs/k6od38e2' target=\"_blank\">https://wandb.ai/akirakudo901/BipedalWalker-v3_SAC/runs/k6od38e2</a><br/>Synced 5 W&B file(s), 0 media file(s), 0 artifact file(s) and 0 other file(s)"
            ]
          },
          "metadata": {}
        },
        {
          "output_type": "display_data",
          "data": {
            "text/plain": [
              "<IPython.core.display.HTML object>"
            ],
            "text/html": [
              "Find logs at: <code>./wandb/run-20231112_055055-k6od38e2/logs</code>"
            ]
          },
          "metadata": {}
        }
      ]
    },
    {
      "cell_type": "code",
      "source": [
        "# JUST TRAIN ONE PARAMETER\n",
        "train_SAC(parameters=p, parameter_name=name, env=env, trainer=trainer, training_id=\"7kkv8stn\")"
      ],
      "metadata": {
        "id": "exd01DvSYLGP"
      },
      "execution_count": null,
      "outputs": []
    }
  ]
}